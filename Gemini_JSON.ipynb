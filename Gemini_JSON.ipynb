{
  "nbformat": 4,
  "nbformat_minor": 0,
  "metadata": {
    "colab": {
      "provenance": []
    },
    "kernelspec": {
      "name": "python3",
      "display_name": "Python 3"
    },
    "language_info": {
      "name": "python"
    }
  },
  "cells": [
    {
      "cell_type": "code",
      "execution_count": 1,
      "metadata": {
        "colab": {
          "base_uri": "https://localhost:8080/"
        },
        "id": "jwjZGn76XBPm",
        "outputId": "ae06f589-3291-44e6-8c84-9b20fec30bd1"
      },
      "outputs": [
        {
          "output_type": "stream",
          "name": "stdout",
          "text": [
            "\u001b[?25l     \u001b[90m━━━━━━━━━━━━━━━━━━━━━━━━━━━━━━━━━━━━━━━━\u001b[0m \u001b[32m0.0/158.8 kB\u001b[0m \u001b[31m?\u001b[0m eta \u001b[36m-:--:--\u001b[0m\r\u001b[2K     \u001b[91m━━━━━━━━━━━━━━━━━━━━━━━━━━━━━━━━━━━━━━\u001b[0m\u001b[91m╸\u001b[0m\u001b[90m━\u001b[0m \u001b[32m153.6/158.8 kB\u001b[0m \u001b[31m5.4 MB/s\u001b[0m eta \u001b[36m0:00:01\u001b[0m\r\u001b[2K     \u001b[90m━━━━━━━━━━━━━━━━━━━━━━━━━━━━━━━━━━━━━━━━\u001b[0m \u001b[32m158.8/158.8 kB\u001b[0m \u001b[31m3.4 MB/s\u001b[0m eta \u001b[36m0:00:00\u001b[0m\n",
            "\u001b[?25h"
          ]
        }
      ],
      "source": [
        "!pip install -q -U google-generativeai"
      ]
    },
    {
      "cell_type": "markdown",
      "source": [
        "\"JSON mode\" is a mode to force LLM output to JSON format. Available in \"gemini-1.5-pro\" and \"gemini-1.5-flash\".\n",
        "\n",
        "Additionally, gemini-1.5-pro supports \"constrained decoding\", which allows you to pass a schema object (or equivalent Python type) at inference time and the output will strictly follow that schema."
      ],
      "metadata": {
        "id": "v-tb_VZBa83K"
      }
    },
    {
      "cell_type": "code",
      "source": [
        "from google.colab import userdata\n",
        "import google.generativeai as genai\n",
        "\n",
        "\n",
        "GOOGLE_API_KEY=userdata.get(\"GOOGLE_API_KEY\")\n",
        "genai.configure(api_key=GOOGLE_API_KEY)"
      ],
      "metadata": {
        "id": "fw-pS9_gYNHV"
      },
      "execution_count": 2,
      "outputs": []
    },
    {
      "cell_type": "code",
      "source": [
        "model = genai.GenerativeModel(\n",
        "    \"gemini-1.5-flash\",\n",
        "    generation_config={\"response_mime_type\": \"application/json\"}\n",
        ")"
      ],
      "metadata": {
        "id": "Zn5PB80yY4se"
      },
      "execution_count": 3,
      "outputs": []
    },
    {
      "cell_type": "code",
      "source": [
        "prompt = \"\"\"Using the following JSON schema,\n",
        "Please list 5 popular cookie recipes.\n",
        "Recipe = {'recipe_name': str}\n",
        "Return: list[Recipe]\"\"\"\n",
        "\n",
        "\n",
        "raw_response = model.generate_content(prompt)\n",
        "print(raw_response.text)"
      ],
      "metadata": {
        "colab": {
          "base_uri": "https://localhost:8080/",
          "height": 52
        },
        "id": "sRICRiyaZAEe",
        "outputId": "e76d1d1c-469a-4310-dab0-8cd0f1777686"
      },
      "execution_count": 4,
      "outputs": [
        {
          "output_type": "stream",
          "name": "stdout",
          "text": [
            "[{\"recipe_name\": \"Chocolate Chip Cookies\"}, {\"recipe_name\": \"Oatmeal Raisin Cookies\"}, {\"recipe_name\": \"Sugar Cookies\"}, {\"recipe_name\": \"Peanut Butter Cookies\"}, {\"recipe_name\": \"Snickerdoodles\"}]\n",
            "\n"
          ]
        }
      ]
    },
    {
      "cell_type": "code",
      "source": [
        "import json\n",
        "response = json.loads(raw_response.text)\n",
        "print(response)"
      ],
      "metadata": {
        "colab": {
          "base_uri": "https://localhost:8080/"
        },
        "id": "FkDkL8d1ZOnD",
        "outputId": "565594f1-265f-4013-b60a-d423e58aa235"
      },
      "execution_count": 5,
      "outputs": [
        {
          "output_type": "stream",
          "name": "stdout",
          "text": [
            "[{'recipe_name': 'Chocolate Chip Cookies'}, {'recipe_name': 'Oatmeal Raisin Cookies'}, {'recipe_name': 'Sugar Cookies'}, {'recipe_name': 'Peanut Butter Cookies'}, {'recipe_name': 'Snickerdoodles'}]\n"
          ]
        }
      ]
    },
    {
      "cell_type": "markdown",
      "source": [
        "## JSON output with constrained decoding"
      ],
      "metadata": {
        "id": "D6fzrb37Zi5t"
      }
    },
    {
      "cell_type": "code",
      "source": [
        "import typing_extensions as typing\n",
        "\n",
        "# Schema object definition\n",
        "class Recipe(typing.TypedDict):\n",
        "    recipe_name: str"
      ],
      "metadata": {
        "id": "cATd0QYaZdpm"
      },
      "execution_count": 6,
      "outputs": []
    },
    {
      "cell_type": "markdown",
      "source": [
        "Specify the JSON format in the schema object and execute inference.\n",
        "\n",
        "Specify \"application/json\" for response_mime_type of\n",
        "generation_config() and the schema object for response_schema ."
      ],
      "metadata": {
        "id": "mkqcKNSfavHm"
      }
    },
    {
      "cell_type": "code",
      "source": [
        "# Direct JSON output with constrained decoding\n",
        "result = model.generate_content(\n",
        "    \"Please list 5 popular cookie recipes.\",\n",
        "    generation_config=genai.GenerationConfig(\n",
        "        response_mime_type=\"application/json\",\n",
        "        response_schema = list[Recipe]\n",
        "    ),\n",
        "    request_options={\"timeout\": 600},  # timeout\n",
        ")\n",
        "print(result.text)"
      ],
      "metadata": {
        "colab": {
          "base_uri": "https://localhost:8080/",
          "height": 72
        },
        "id": "HKClxn0TaMyo",
        "outputId": "7b36c59d-87f3-48e0-fed0-969d5a93931b"
      },
      "execution_count": 7,
      "outputs": [
        {
          "output_type": "stream",
          "name": "stdout",
          "text": [
            "{\"recipes\": [{\"name\": \"Chocolate Chip Cookies\", \"ingredients\": [\"1 cup (2 sticks) unsalted butter, softened\", \"3/4 cup granulated sugar\", \"3/4 cup packed light brown sugar\", \"2 large eggs\", \"2 teaspoons pure vanilla extract\", \"2 1/4 cups all-purpose flour\", \"1 teaspoon baking soda\", \"1 teaspoon salt\", \"2 cups chocolate chips\"], \"instructions\": [\"Preheat oven to 375 degrees F (190 degrees C).\", \"In a large bowl, cream together the butter, granulated sugar, and brown sugar until light and fluffy.\", \"Beat in the eggs one at a time, then stir in the vanilla.\", \"In a separate bowl, whisk together the flour, baking soda, and salt.\", \"Gradually add the dry ingredients to the wet ingredients, mixing until just combined.\", \"Stir in the chocolate chips.\", \"Drop by rounded tablespoons onto ungreased baking sheets.\", \"Bake for 9-11 minutes, or until edges are golden brown.\", \"Let cool on baking sheets for a few minutes before transferring to a wire rack to cool completely.\"] }, {\"name\": \"Oatmeal Raisin Cookies\", \"ingredients\": [\"1 cup (2 sticks) unsalted butter, softened\", \"3/4 cup granulated sugar\", \"3/4 cup packed light brown sugar\", \"2 large eggs\", \"1 teaspoon pure vanilla extract\", \"2 1/4 cups all-purpose flour\", \"1 teaspoon baking soda\", \"1 teaspoon salt\", \"1 1/2 cups old-fashioned rolled oats\", \"1 cup raisins\"], \"instructions\": [\"Preheat oven to 350 degrees F (175 degrees C).\", \"In a large bowl, cream together the butter, granulated sugar, and brown sugar until light and fluffy.\", \"Beat in the eggs one at a time, then stir in the vanilla.\", \"In a separate bowl, whisk together the flour, baking soda, and salt.\", \"Gradually add the dry ingredients to the wet ingredients, mixing until just combined.\", \"Stir in the oats and raisins.\", \"Drop by rounded tablespoons onto ungreased baking sheets.\", \"Bake for 10-12 minutes, or until edges are golden brown.\", \"Let cool on baking sheets for a few minutes before transferring to a wire rack to cool completely.\"] }, {\"name\": \"Snickerdoodles\", \"ingredients\": [\"1 cup (2 sticks) unsalted butter, softened\", \"1 1/2 cups granulated sugar\", \"2 large eggs\", \"2 teaspoons pure vanilla extract\", \"3 cups all-purpose flour\", \"1 teaspoon cream of tartar\", \"1/2 teaspoon baking soda\", \"1/4 teaspoon salt\", \"2 tablespoons granulated sugar for rolling\"], \"instructions\": [\"Preheat oven to 400 degrees F (200 degrees C).\", \"In a large bowl, cream together the butter and sugar until light and fluffy.\", \"Beat in the eggs one at a time, then stir in the vanilla.\", \"In a separate bowl, whisk together the flour, cream of tartar, baking soda, and salt.\", \"Gradually add the dry ingredients to the wet ingredients, mixing until just combined.\", \"Roll dough into 1-inch balls.\", \"In a small bowl, combine the 2 tablespoons of granulated sugar for rolling.\", \"Roll each dough ball in the sugar.\", \"Place dough balls 2 inches apart on ungreased baking sheets.\", \"Bake for 8-10 minutes, or until edges are lightly browned.\", \"Let cool on baking sheets for a few minutes before transferring to a wire rack to cool completely.\"] }, {\"name\": \"Peanut Butter Cookies\", \"ingredients\": [\"1 cup (2 sticks) unsalted butter, softened\", \"1 cup creamy peanut butter\", \"1/2 cup granulated sugar\", \"1/2 cup packed light brown sugar\", \"1 large egg\", \"1 teaspoon pure vanilla extract\", \"2 cups all-purpose flour\", \"1 teaspoon baking soda\", \"1/2 teaspoon salt\"], \"instructions\": [\"Preheat oven to 375 degrees F (190 degrees C).\", \"In a large bowl, cream together the butter, peanut butter, granulated sugar, and brown sugar until light and fluffy.\", \"Beat in the egg, then stir in the vanilla.\", \"In a separate bowl, whisk together the flour, baking soda, and salt.\", \"Gradually add the dry ingredients to the wet ingredients, mixing until just combined.\", \"Drop by rounded tablespoons onto ungreased baking sheets.\", \"Bake for 8-10 minutes, or until edges are lightly browned.\", \"Let cool on baking sheets for a few minutes before transferring to a wire rack to cool completely.\"] }, {\"name\": \"Sugar Cookies\", \"ingredients\": [\"1 cup (2 sticks) unsalted butter, softened\", \"1 1/2 cups granulated sugar\", \"2 large eggs\", \"1 teaspoon pure vanilla extract\", \"3 1/2 cups all-purpose flour\", \"1 teaspoon baking powder\", \"1/2 teaspoon salt\"], \"instructions\": [\"Preheat oven to 375 degrees F (190 degrees C).\", \"In a large bowl, cream together the butter and sugar until light and fluffy.\", \"Beat in the eggs one at a time, then stir in the vanilla.\", \"In a separate bowl, whisk together the flour, baking powder, and salt.\", \"Gradually add the dry ingredients to the wet ingredients, mixing until just combined.\", \"Roll out dough on a lightly floured surface to 1/4-inch thickness.\", \"Use cookie cutters to cut out desired shapes.\", \"Place cookies on ungreased baking sheets.\", \"Bake for 6-8 minutes, or until edges are lightly browned.\", \"Let cool on baking sheets for a few minutes before transferring to a wire rack to cool completely.\"] }] }\n",
            "\n"
          ]
        }
      ]
    },
    {
      "cell_type": "code",
      "source": [],
      "metadata": {
        "id": "KtsBb3neadLJ"
      },
      "execution_count": null,
      "outputs": []
    }
  ]
}